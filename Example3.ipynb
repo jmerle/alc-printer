{
 "cells": [
  {
   "cell_type": "code",
   "execution_count": 2,
   "id": "1fd958c6-8e9d-4504-9b3a-7e7b046eb129",
   "metadata": {},
   "outputs": [
    {
     "name": "stdout",
     "output_type": "stream",
     "text": [
      "\"Default\" System.Runtime.Loader.DefaultAssemblyLoadContext #2\n"
     ]
    }
   ],
   "source": [
    "#r \"ALCPrinter/bin/Debug/ALCPrinter.dll\"\n",
    "\n",
    "using ALCPrinter;\n",
    "using System.Reflection;\n",
    "\n",
    "Assembly.LoadFrom(\"ALCPrinter/bin/Debug/ALCPrinter.dll\");\n",
    "\n",
    "Printer.PrintALC();"
   ]
  }
 ],
 "metadata": {
  "kernelspec": {
   "display_name": ".NET (C#)",
   "language": "C#",
   "name": ".net-csharp"
  },
  "language_info": {
   "file_extension": ".cs",
   "mimetype": "text/x-csharp",
   "name": "C#",
   "pygments_lexer": "csharp",
   "version": "9.0"
  }
 },
 "nbformat": 4,
 "nbformat_minor": 5
}
